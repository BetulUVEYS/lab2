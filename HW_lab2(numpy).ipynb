{
 "cells": [
  {
   "cell_type": "code",
   "execution_count": 1,
   "id": "01099aae",
   "metadata": {
    "execution": {
     "iopub.execute_input": "2023-03-10T19:34:07.933099Z",
     "iopub.status.busy": "2023-03-10T19:34:07.932687Z",
     "iopub.status.idle": "2023-03-10T19:34:07.948361Z",
     "shell.execute_reply": "2023-03-10T19:34:07.947066Z"
    },
    "papermill": {
     "duration": 0.024921,
     "end_time": "2023-03-10T19:34:07.951522",
     "exception": false,
     "start_time": "2023-03-10T19:34:07.926601",
     "status": "completed"
    },
    "tags": []
   },
   "outputs": [
    {
     "name": "stdout",
     "output_type": "stream",
     "text": [
      "[[ 1  2  3]\n",
      " [ 4  5  6]\n",
      " [ 7  8  9]\n",
      " [10 11 12]]\n",
      "\n",
      "\n",
      "[1 2 3 4 5]\n",
      "[6, 7, 8, 9, 10]\n"
     ]
    }
   ],
   "source": [
    "#importing\n",
    "import numpy as np\n",
    "#create array using array() function\n",
    "myarray1= np.array([(1,2,3),(4,5,6),(7,8,9),(10,11,12)])#1x4 array \n",
    "print(myarray1)\n",
    "print(\"\\n\")\n",
    "\n",
    "#array to list and list to array.\n",
    "list_ex=[1,2,3,4,5]\n",
    "myarray2 = np.array(list_ex)\n",
    "array_ex = [6,7,8,9,10]\n",
    "mylist = list(array_ex)\n",
    "\n",
    "print(myarray2)\n",
    "print(mylist)"
   ]
  },
  {
   "cell_type": "code",
   "execution_count": 2,
   "id": "4ae0940f",
   "metadata": {
    "execution": {
     "iopub.execute_input": "2023-03-10T19:34:07.961218Z",
     "iopub.status.busy": "2023-03-10T19:34:07.960069Z",
     "iopub.status.idle": "2023-03-10T19:34:07.968361Z",
     "shell.execute_reply": "2023-03-10T19:34:07.966964Z"
    },
    "papermill": {
     "duration": 0.016876,
     "end_time": "2023-03-10T19:34:07.972222",
     "exception": false,
     "start_time": "2023-03-10T19:34:07.955346",
     "status": "completed"
    },
    "tags": []
   },
   "outputs": [
    {
     "name": "stdout",
     "output_type": "stream",
     "text": [
      "[5 7 9]\n",
      "[-3 -3 -3]\n",
      "[1 4 9]\n"
     ]
    }
   ],
   "source": [
    "#numpy basic operations\n",
    "a= np.array([1,2,3])\n",
    "b= np.array([4,5,6]) # for summition and substruction the size of arrays must be equal.\n",
    "\n",
    "print(a+b) #[5 7 9]\n",
    "print(a-b) #[-3 -3 -3]\n",
    "print(a**2) #[1 4 9]"
   ]
  },
  {
   "cell_type": "code",
   "execution_count": 3,
   "id": "a703ac30",
   "metadata": {
    "execution": {
     "iopub.execute_input": "2023-03-10T19:34:07.982576Z",
     "iopub.status.busy": "2023-03-10T19:34:07.981388Z",
     "iopub.status.idle": "2023-03-10T19:34:07.993264Z",
     "shell.execute_reply": "2023-03-10T19:34:07.991163Z"
    },
    "papermill": {
     "duration": 0.020629,
     "end_time": "2023-03-10T19:34:07.996999",
     "exception": false,
     "start_time": "2023-03-10T19:34:07.976370",
     "status": "completed"
    },
    "tags": []
   },
   "outputs": [
    {
     "name": "stdout",
     "output_type": "stream",
     "text": [
      "[[ 1  2  3]\n",
      " [ 4  5  6]\n",
      " [ 7  8  9]\n",
      " [10 11 12]]\n",
      "\n",
      "\n",
      "[1 2 3]\n",
      "\n",
      "\n",
      "[[1 2 3]\n",
      " [4 5 6]]\n",
      "\n",
      "\n",
      "[[10 11 12]\n",
      " [ 7  8  9]\n",
      " [ 4  5  6]\n",
      " [ 1  2  3]]\n",
      "\n",
      "\n",
      "5\n",
      "\n",
      "\n",
      "[ 2  5  8 11]\n",
      "\n",
      "\n",
      "[4 5 6]\n",
      "\n",
      "\n",
      "[5 6]\n",
      "\n",
      "\n",
      "[10 11 12]\n",
      "\n",
      "\n",
      "[ 3  6  9 12]\n"
     ]
    }
   ],
   "source": [
    "#print array.\n",
    "a=myarray1\n",
    "print(a)\n",
    "print('\\n')\n",
    "print(a[0])\n",
    "print('\\n')\n",
    "print(a[0:2])\n",
    "print('\\n')\n",
    "print(a[::-1])\n",
    "print('\\n')\n",
    "print(a[1,1]) \n",
    "print('\\n')\n",
    "print(a[:,1]) \n",
    "print('\\n')\n",
    "print(a[1,:]) \n",
    "print('\\n')\n",
    "print(a[1,1:4]) \n",
    "print('\\n')\n",
    "print(a[-1,:]) \n",
    "print('\\n')\n",
    "print(a[:,-1]) "
   ]
  },
  {
   "cell_type": "code",
   "execution_count": 4,
   "id": "cf1f2a17",
   "metadata": {
    "execution": {
     "iopub.execute_input": "2023-03-10T19:34:08.006874Z",
     "iopub.status.busy": "2023-03-10T19:34:08.006242Z",
     "iopub.status.idle": "2023-03-10T19:34:08.016006Z",
     "shell.execute_reply": "2023-03-10T19:34:08.014581Z"
    },
    "papermill": {
     "duration": 0.017752,
     "end_time": "2023-03-10T19:34:08.018841",
     "exception": false,
     "start_time": "2023-03-10T19:34:08.001089",
     "status": "completed"
    },
    "tags": []
   },
   "outputs": [
    {
     "data": {
      "text/plain": [
       "array([[4.65472476e-310, 0.00000000e+000, 0.00000000e+000],\n",
       "       [0.00000000e+000, 0.00000000e+000, 0.00000000e+000]])"
      ]
     },
     "execution_count": 4,
     "metadata": {},
     "output_type": "execute_result"
    }
   ],
   "source": [
    "np.empty((2,3))#create empty array"
   ]
  },
  {
   "cell_type": "code",
   "execution_count": 5,
   "id": "60f4e20e",
   "metadata": {
    "execution": {
     "iopub.execute_input": "2023-03-10T19:34:08.028859Z",
     "iopub.status.busy": "2023-03-10T19:34:08.028415Z",
     "iopub.status.idle": "2023-03-10T19:34:08.036862Z",
     "shell.execute_reply": "2023-03-10T19:34:08.035396Z"
    },
    "papermill": {
     "duration": 0.01631,
     "end_time": "2023-03-10T19:34:08.039459",
     "exception": false,
     "start_time": "2023-03-10T19:34:08.023149",
     "status": "completed"
    },
    "tags": []
   },
   "outputs": [
    {
     "data": {
      "text/plain": [
       "array([[0., 0., 0.],\n",
       "       [0., 0., 0.]])"
      ]
     },
     "execution_count": 5,
     "metadata": {},
     "output_type": "execute_result"
    }
   ],
   "source": [
    "np.zeros((2,3))"
   ]
  },
  {
   "cell_type": "code",
   "execution_count": 6,
   "id": "2e335ff3",
   "metadata": {
    "execution": {
     "iopub.execute_input": "2023-03-10T19:34:08.050573Z",
     "iopub.status.busy": "2023-03-10T19:34:08.050160Z",
     "iopub.status.idle": "2023-03-10T19:34:08.058827Z",
     "shell.execute_reply": "2023-03-10T19:34:08.057392Z"
    },
    "papermill": {
     "duration": 0.017212,
     "end_time": "2023-03-10T19:34:08.061295",
     "exception": false,
     "start_time": "2023-03-10T19:34:08.044083",
     "status": "completed"
    },
    "tags": []
   },
   "outputs": [
    {
     "data": {
      "text/plain": [
       "array([[1., 1., 1.],\n",
       "       [1., 1., 1.]])"
      ]
     },
     "execution_count": 6,
     "metadata": {},
     "output_type": "execute_result"
    }
   ],
   "source": [
    "np.ones((2,3))"
   ]
  },
  {
   "cell_type": "code",
   "execution_count": 7,
   "id": "20718988",
   "metadata": {
    "execution": {
     "iopub.execute_input": "2023-03-10T19:34:08.071802Z",
     "iopub.status.busy": "2023-03-10T19:34:08.071385Z",
     "iopub.status.idle": "2023-03-10T19:34:08.081583Z",
     "shell.execute_reply": "2023-03-10T19:34:08.080216Z"
    },
    "papermill": {
     "duration": 0.018708,
     "end_time": "2023-03-10T19:34:08.084329",
     "exception": false,
     "start_time": "2023-03-10T19:34:08.065621",
     "status": "completed"
    },
    "tags": []
   },
   "outputs": [
    {
     "name": "stdout",
     "output_type": "stream",
     "text": [
      "shape: (4, 3)\n",
      "\n",
      "\n",
      "reshape:\n",
      " [[ 1  2]\n",
      " [ 3  4]\n",
      " [ 5  6]\n",
      " [ 7  8]\n",
      " [ 9 10]\n",
      " [11 12]]\n",
      "\n",
      "\n",
      "dimension: 2\n",
      "\n",
      "\n",
      "data type: int64\n",
      "\n",
      "\n",
      "size: 12\n",
      "\n",
      "\n",
      "type: <class 'numpy.ndarray'>\n",
      "\n",
      "\n"
     ]
    }
   ],
   "source": [
    "#shape-reshape-dimension-data_type-size-type\n",
    "#shape:\n",
    "print('shape:',myarray1.shape)\n",
    "print('\\n')\n",
    "#reshape:\n",
    "print('reshape:\\n',myarray1.reshape(6,2))\n",
    "print('\\n')\n",
    "print('dimension:',myarray1.ndim)\n",
    "print('\\n')\n",
    "print('data type:',myarray1.dtype)\n",
    "print('\\n')\n",
    "print('size:',myarray1.size)\n",
    "print('\\n')\n",
    "print('type:',type(myarray1))\n",
    "print('\\n')"
   ]
  },
  {
   "cell_type": "code",
   "execution_count": 8,
   "id": "8dbce89e",
   "metadata": {
    "execution": {
     "iopub.execute_input": "2023-03-10T19:34:08.096289Z",
     "iopub.status.busy": "2023-03-10T19:34:08.095835Z",
     "iopub.status.idle": "2023-03-10T19:34:08.104849Z",
     "shell.execute_reply": "2023-03-10T19:34:08.103308Z"
    },
    "papermill": {
     "duration": 0.017967,
     "end_time": "2023-03-10T19:34:08.107319",
     "exception": false,
     "start_time": "2023-03-10T19:34:08.089352",
     "status": "completed"
    },
    "tags": []
   },
   "outputs": [
    {
     "data": {
      "text/plain": [
       "array([ 0,  2,  4,  6,  8, 10, 12, 14, 16, 18])"
      ]
     },
     "execution_count": 8,
     "metadata": {},
     "output_type": "execute_result"
    }
   ],
   "source": [
    "#arange\n",
    "#print the numbers between 0 and 20 two by two \n",
    "np.arange(0,20,2)"
   ]
  },
  {
   "cell_type": "code",
   "execution_count": 9,
   "id": "19a6adba",
   "metadata": {
    "execution": {
     "iopub.execute_input": "2023-03-10T19:34:08.118405Z",
     "iopub.status.busy": "2023-03-10T19:34:08.118021Z",
     "iopub.status.idle": "2023-03-10T19:34:08.124888Z",
     "shell.execute_reply": "2023-03-10T19:34:08.123839Z"
    },
    "papermill": {
     "duration": 0.015489,
     "end_time": "2023-03-10T19:34:08.127275",
     "exception": false,
     "start_time": "2023-03-10T19:34:08.111786",
     "status": "completed"
    },
    "tags": []
   },
   "outputs": [
    {
     "data": {
      "text/plain": [
       "array([ 0.        ,  0.52631579,  1.05263158,  1.57894737,  2.10526316,\n",
       "        2.63157895,  3.15789474,  3.68421053,  4.21052632,  4.73684211,\n",
       "        5.26315789,  5.78947368,  6.31578947,  6.84210526,  7.36842105,\n",
       "        7.89473684,  8.42105263,  8.94736842,  9.47368421, 10.        ])"
      ]
     },
     "execution_count": 9,
     "metadata": {},
     "output_type": "execute_result"
    }
   ],
   "source": [
    "#linspace\n",
    "#print 20 numbers each 0 and 10\n",
    "np.linspace(0,10,20)"
   ]
  },
  {
   "cell_type": "code",
   "execution_count": 10,
   "id": "c1f4718f",
   "metadata": {
    "execution": {
     "iopub.execute_input": "2023-03-10T19:34:08.138550Z",
     "iopub.status.busy": "2023-03-10T19:34:08.138126Z",
     "iopub.status.idle": "2023-03-10T19:34:08.143659Z",
     "shell.execute_reply": "2023-03-10T19:34:08.142705Z"
    },
    "papermill": {
     "duration": 0.01435,
     "end_time": "2023-03-10T19:34:08.146363",
     "exception": false,
     "start_time": "2023-03-10T19:34:08.132013",
     "status": "completed"
    },
    "tags": []
   },
   "outputs": [
    {
     "name": "stdout",
     "output_type": "stream",
     "text": [
      "[[ 1  4  7 10]\n",
      " [ 2  5  8 11]\n",
      " [ 3  6  9 12]]\n"
     ]
    }
   ],
   "source": [
    "#transpose\n",
    "print(myarray1.T)"
   ]
  },
  {
   "cell_type": "code",
   "execution_count": 11,
   "id": "72c0ae9b",
   "metadata": {
    "execution": {
     "iopub.execute_input": "2023-03-10T19:34:08.158185Z",
     "iopub.status.busy": "2023-03-10T19:34:08.157769Z",
     "iopub.status.idle": "2023-03-10T19:34:08.166012Z",
     "shell.execute_reply": "2023-03-10T19:34:08.164618Z"
    },
    "papermill": {
     "duration": 0.016705,
     "end_time": "2023-03-10T19:34:08.168476",
     "exception": false,
     "start_time": "2023-03-10T19:34:08.151771",
     "status": "completed"
    },
    "tags": []
   },
   "outputs": [
    {
     "name": "stdout",
     "output_type": "stream",
     "text": [
      "[ 1  2  3  4  5  6  7  8  9 10 11 12]\n"
     ]
    }
   ],
   "source": [
    "#ravel methoduyla tek boyutlu hale getirilir.\n",
    "myarray3= np.array([(1,2,3),(4,5,6),(7,8,9),(10,11,12)])\n",
    "a=myarray3.ravel()\n",
    "print(a)"
   ]
  },
  {
   "cell_type": "code",
   "execution_count": null,
   "id": "513ee6f4",
   "metadata": {
    "papermill": {
     "duration": 0.004548,
     "end_time": "2023-03-10T19:34:08.178029",
     "exception": false,
     "start_time": "2023-03-10T19:34:08.173481",
     "status": "completed"
    },
    "tags": []
   },
   "outputs": [],
   "source": []
  }
 ],
 "metadata": {
  "kernelspec": {
   "display_name": "Python 3",
   "language": "python",
   "name": "python3"
  },
  "language_info": {
   "codemirror_mode": {
    "name": "ipython",
    "version": 3
   },
   "file_extension": ".py",
   "mimetype": "text/x-python",
   "name": "python",
   "nbconvert_exporter": "python",
   "pygments_lexer": "ipython3",
   "version": "3.7.12"
  },
  "papermill": {
   "default_parameters": {},
   "duration": 13.150483,
   "end_time": "2023-03-10T19:34:08.908976",
   "environment_variables": {},
   "exception": null,
   "input_path": "__notebook__.ipynb",
   "output_path": "__notebook__.ipynb",
   "parameters": {},
   "start_time": "2023-03-10T19:33:55.758493",
   "version": "2.4.0"
  }
 },
 "nbformat": 4,
 "nbformat_minor": 5
}
