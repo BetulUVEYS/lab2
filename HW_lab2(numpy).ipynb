{
 "cells": [
  {
   "cell_type": "code",
   "execution_count": 1,
   "id": "43eb5055",
   "metadata": {
    "execution": {
     "iopub.execute_input": "2023-03-10T19:35:33.675953Z",
     "iopub.status.busy": "2023-03-10T19:35:33.675449Z",
     "iopub.status.idle": "2023-03-10T19:35:33.693455Z",
     "shell.execute_reply": "2023-03-10T19:35:33.692202Z"
    },
    "papermill": {
     "duration": 0.027831,
     "end_time": "2023-03-10T19:35:33.696890",
     "exception": false,
     "start_time": "2023-03-10T19:35:33.669059",
     "status": "completed"
    },
    "tags": []
   },
   "outputs": [
    {
     "name": "stdout",
     "output_type": "stream",
     "text": [
      "[[ 1  2  3]\n",
      " [ 4  5  6]\n",
      " [ 7  8  9]\n",
      " [10 11 12]]\n",
      "\n",
      "\n",
      "[1 2 3 4 5]\n",
      "[6, 7, 8, 9, 10]\n"
     ]
    }
   ],
   "source": [
    "#importing\n",
    "import numpy as np\n",
    "#create array using array() function\n",
    "myarray1= np.array([(1,2,3),(4,5,6),(7,8,9),(10,11,12)])#1x4 array \n",
    "print(myarray1)\n",
    "print(\"\\n\")\n",
    "\n",
    "#array to list and list to array.\n",
    "list_ex=[1,2,3,4,5]\n",
    "myarray2 = np.array(list_ex)\n",
    "array_ex = [6,7,8,9,10]\n",
    "mylist = list(array_ex)\n",
    "\n",
    "print(myarray2)\n",
    "print(mylist)"
   ]
  },
  {
   "cell_type": "code",
   "execution_count": 2,
   "id": "420d9bbc",
   "metadata": {
    "execution": {
     "iopub.execute_input": "2023-03-10T19:35:33.706246Z",
     "iopub.status.busy": "2023-03-10T19:35:33.705063Z",
     "iopub.status.idle": "2023-03-10T19:35:33.713597Z",
     "shell.execute_reply": "2023-03-10T19:35:33.712069Z"
    },
    "papermill": {
     "duration": 0.015078,
     "end_time": "2023-03-10T19:35:33.715945",
     "exception": false,
     "start_time": "2023-03-10T19:35:33.700867",
     "status": "completed"
    },
    "tags": []
   },
   "outputs": [
    {
     "name": "stdout",
     "output_type": "stream",
     "text": [
      "[5 7 9]\n",
      "[-3 -3 -3]\n",
      "[1 4 9]\n"
     ]
    }
   ],
   "source": [
    "#numpy basic operations\n",
    "a= np.array([1,2,3])\n",
    "b= np.array([4,5,6]) # for summition and substruction the size of arrays must be equal.\n",
    "\n",
    "print(a+b) #[5 7 9]\n",
    "print(a-b) #[-3 -3 -3]\n",
    "print(a**2) #[1 4 9]"
   ]
  },
  {
   "cell_type": "code",
   "execution_count": 3,
   "id": "a8be7e16",
   "metadata": {
    "execution": {
     "iopub.execute_input": "2023-03-10T19:35:33.724619Z",
     "iopub.status.busy": "2023-03-10T19:35:33.723764Z",
     "iopub.status.idle": "2023-03-10T19:35:33.733251Z",
     "shell.execute_reply": "2023-03-10T19:35:33.731927Z"
    },
    "papermill": {
     "duration": 0.017644,
     "end_time": "2023-03-10T19:35:33.736918",
     "exception": false,
     "start_time": "2023-03-10T19:35:33.719274",
     "status": "completed"
    },
    "tags": []
   },
   "outputs": [
    {
     "name": "stdout",
     "output_type": "stream",
     "text": [
      "[[ 1  2  3]\n",
      " [ 4  5  6]\n",
      " [ 7  8  9]\n",
      " [10 11 12]]\n",
      "\n",
      "\n",
      "[1 2 3]\n",
      "\n",
      "\n",
      "[[1 2 3]\n",
      " [4 5 6]]\n",
      "\n",
      "\n",
      "[[10 11 12]\n",
      " [ 7  8  9]\n",
      " [ 4  5  6]\n",
      " [ 1  2  3]]\n",
      "\n",
      "\n",
      "5\n",
      "\n",
      "\n",
      "[ 2  5  8 11]\n",
      "\n",
      "\n",
      "[4 5 6]\n",
      "\n",
      "\n",
      "[5 6]\n",
      "\n",
      "\n",
      "[10 11 12]\n",
      "\n",
      "\n",
      "[ 3  6  9 12]\n"
     ]
    }
   ],
   "source": [
    "#print array.\n",
    "a=myarray1\n",
    "print(a)\n",
    "print('\\n')\n",
    "print(a[0])\n",
    "print('\\n')\n",
    "print(a[0:2])\n",
    "print('\\n')\n",
    "print(a[::-1])\n",
    "print('\\n')\n",
    "print(a[1,1]) \n",
    "print('\\n')\n",
    "print(a[:,1]) \n",
    "print('\\n')\n",
    "print(a[1,:]) \n",
    "print('\\n')\n",
    "print(a[1,1:4]) \n",
    "print('\\n')\n",
    "print(a[-1,:]) \n",
    "print('\\n')\n",
    "print(a[:,-1]) "
   ]
  },
  {
   "cell_type": "code",
   "execution_count": 4,
   "id": "1057eb86",
   "metadata": {
    "execution": {
     "iopub.execute_input": "2023-03-10T19:35:33.746344Z",
     "iopub.status.busy": "2023-03-10T19:35:33.745367Z",
     "iopub.status.idle": "2023-03-10T19:35:33.753542Z",
     "shell.execute_reply": "2023-03-10T19:35:33.752716Z"
    },
    "papermill": {
     "duration": 0.014809,
     "end_time": "2023-03-10T19:35:33.755548",
     "exception": false,
     "start_time": "2023-03-10T19:35:33.740739",
     "status": "completed"
    },
    "tags": []
   },
   "outputs": [
    {
     "data": {
      "text/plain": [
       "array([[4.64267702e-310, 0.00000000e+000, 0.00000000e+000],\n",
       "       [0.00000000e+000, 0.00000000e+000, 0.00000000e+000]])"
      ]
     },
     "execution_count": 4,
     "metadata": {},
     "output_type": "execute_result"
    }
   ],
   "source": [
    "np.empty((2,3))#create empty array"
   ]
  },
  {
   "cell_type": "code",
   "execution_count": 5,
   "id": "1c24f3a8",
   "metadata": {
    "execution": {
     "iopub.execute_input": "2023-03-10T19:35:33.764317Z",
     "iopub.status.busy": "2023-03-10T19:35:33.763928Z",
     "iopub.status.idle": "2023-03-10T19:35:33.770546Z",
     "shell.execute_reply": "2023-03-10T19:35:33.769698Z"
    },
    "papermill": {
     "duration": 0.013554,
     "end_time": "2023-03-10T19:35:33.772660",
     "exception": false,
     "start_time": "2023-03-10T19:35:33.759106",
     "status": "completed"
    },
    "tags": []
   },
   "outputs": [
    {
     "data": {
      "text/plain": [
       "array([[0., 0., 0.],\n",
       "       [0., 0., 0.]])"
      ]
     },
     "execution_count": 5,
     "metadata": {},
     "output_type": "execute_result"
    }
   ],
   "source": [
    "np.zeros((2,3))"
   ]
  },
  {
   "cell_type": "code",
   "execution_count": 6,
   "id": "4d593eef",
   "metadata": {
    "execution": {
     "iopub.execute_input": "2023-03-10T19:35:33.781988Z",
     "iopub.status.busy": "2023-03-10T19:35:33.781357Z",
     "iopub.status.idle": "2023-03-10T19:35:33.787938Z",
     "shell.execute_reply": "2023-03-10T19:35:33.786923Z"
    },
    "papermill": {
     "duration": 0.013644,
     "end_time": "2023-03-10T19:35:33.790054",
     "exception": false,
     "start_time": "2023-03-10T19:35:33.776410",
     "status": "completed"
    },
    "tags": []
   },
   "outputs": [
    {
     "data": {
      "text/plain": [
       "array([[1., 1., 1.],\n",
       "       [1., 1., 1.]])"
      ]
     },
     "execution_count": 6,
     "metadata": {},
     "output_type": "execute_result"
    }
   ],
   "source": [
    "np.ones((2,3))"
   ]
  },
  {
   "cell_type": "code",
   "execution_count": 7,
   "id": "557d8b8c",
   "metadata": {
    "execution": {
     "iopub.execute_input": "2023-03-10T19:35:33.799578Z",
     "iopub.status.busy": "2023-03-10T19:35:33.798920Z",
     "iopub.status.idle": "2023-03-10T19:35:33.806664Z",
     "shell.execute_reply": "2023-03-10T19:35:33.805091Z"
    },
    "papermill": {
     "duration": 0.015082,
     "end_time": "2023-03-10T19:35:33.809003",
     "exception": false,
     "start_time": "2023-03-10T19:35:33.793921",
     "status": "completed"
    },
    "tags": []
   },
   "outputs": [
    {
     "name": "stdout",
     "output_type": "stream",
     "text": [
      "shape: (4, 3)\n",
      "\n",
      "\n",
      "reshape:\n",
      " [[ 1  2]\n",
      " [ 3  4]\n",
      " [ 5  6]\n",
      " [ 7  8]\n",
      " [ 9 10]\n",
      " [11 12]]\n",
      "\n",
      "\n",
      "dimension: 2\n",
      "\n",
      "\n",
      "data type: int64\n",
      "\n",
      "\n",
      "size: 12\n",
      "\n",
      "\n",
      "type: <class 'numpy.ndarray'>\n",
      "\n",
      "\n"
     ]
    }
   ],
   "source": [
    "#shape-reshape-dimension-data_type-size-type\n",
    "#shape:\n",
    "print('shape:',myarray1.shape)\n",
    "print('\\n')\n",
    "#reshape:\n",
    "print('reshape:\\n',myarray1.reshape(6,2))\n",
    "print('\\n')\n",
    "print('dimension:',myarray1.ndim)\n",
    "print('\\n')\n",
    "print('data type:',myarray1.dtype)\n",
    "print('\\n')\n",
    "print('size:',myarray1.size)\n",
    "print('\\n')\n",
    "print('type:',type(myarray1))\n",
    "print('\\n')"
   ]
  },
  {
   "cell_type": "code",
   "execution_count": 8,
   "id": "c0d6224f",
   "metadata": {
    "execution": {
     "iopub.execute_input": "2023-03-10T19:35:33.818732Z",
     "iopub.status.busy": "2023-03-10T19:35:33.818057Z",
     "iopub.status.idle": "2023-03-10T19:35:33.824058Z",
     "shell.execute_reply": "2023-03-10T19:35:33.823265Z"
    },
    "papermill": {
     "duration": 0.013198,
     "end_time": "2023-03-10T19:35:33.826170",
     "exception": false,
     "start_time": "2023-03-10T19:35:33.812972",
     "status": "completed"
    },
    "tags": []
   },
   "outputs": [
    {
     "data": {
      "text/plain": [
       "array([ 0,  2,  4,  6,  8, 10, 12, 14, 16, 18])"
      ]
     },
     "execution_count": 8,
     "metadata": {},
     "output_type": "execute_result"
    }
   ],
   "source": [
    "#arange\n",
    "#print the numbers between 0 and 20 two by two \n",
    "np.arange(0,20,2)"
   ]
  },
  {
   "cell_type": "code",
   "execution_count": 9,
   "id": "d856747f",
   "metadata": {
    "execution": {
     "iopub.execute_input": "2023-03-10T19:35:33.836086Z",
     "iopub.status.busy": "2023-03-10T19:35:33.835724Z",
     "iopub.status.idle": "2023-03-10T19:35:33.842815Z",
     "shell.execute_reply": "2023-03-10T19:35:33.841709Z"
    },
    "papermill": {
     "duration": 0.014713,
     "end_time": "2023-03-10T19:35:33.845075",
     "exception": false,
     "start_time": "2023-03-10T19:35:33.830362",
     "status": "completed"
    },
    "tags": []
   },
   "outputs": [
    {
     "data": {
      "text/plain": [
       "array([ 0.        ,  0.52631579,  1.05263158,  1.57894737,  2.10526316,\n",
       "        2.63157895,  3.15789474,  3.68421053,  4.21052632,  4.73684211,\n",
       "        5.26315789,  5.78947368,  6.31578947,  6.84210526,  7.36842105,\n",
       "        7.89473684,  8.42105263,  8.94736842,  9.47368421, 10.        ])"
      ]
     },
     "execution_count": 9,
     "metadata": {},
     "output_type": "execute_result"
    }
   ],
   "source": [
    "#linspace\n",
    "#print 20 numbers each 0 and 10\n",
    "np.linspace(0,10,20)"
   ]
  },
  {
   "cell_type": "code",
   "execution_count": 10,
   "id": "c39ef5be",
   "metadata": {
    "execution": {
     "iopub.execute_input": "2023-03-10T19:35:33.855315Z",
     "iopub.status.busy": "2023-03-10T19:35:33.854921Z",
     "iopub.status.idle": "2023-03-10T19:35:33.860623Z",
     "shell.execute_reply": "2023-03-10T19:35:33.859284Z"
    },
    "papermill": {
     "duration": 0.014004,
     "end_time": "2023-03-10T19:35:33.863576",
     "exception": false,
     "start_time": "2023-03-10T19:35:33.849572",
     "status": "completed"
    },
    "tags": []
   },
   "outputs": [
    {
     "name": "stdout",
     "output_type": "stream",
     "text": [
      "[[ 1  4  7 10]\n",
      " [ 2  5  8 11]\n",
      " [ 3  6  9 12]]\n"
     ]
    }
   ],
   "source": [
    "#transpose\n",
    "print(myarray1.T)"
   ]
  },
  {
   "cell_type": "code",
   "execution_count": 11,
   "id": "e99f0c54",
   "metadata": {
    "execution": {
     "iopub.execute_input": "2023-03-10T19:35:33.875094Z",
     "iopub.status.busy": "2023-03-10T19:35:33.874301Z",
     "iopub.status.idle": "2023-03-10T19:35:33.880849Z",
     "shell.execute_reply": "2023-03-10T19:35:33.879459Z"
    },
    "papermill": {
     "duration": 0.015167,
     "end_time": "2023-03-10T19:35:33.883761",
     "exception": false,
     "start_time": "2023-03-10T19:35:33.868594",
     "status": "completed"
    },
    "tags": []
   },
   "outputs": [
    {
     "name": "stdout",
     "output_type": "stream",
     "text": [
      "[ 1  2  3  4  5  6  7  8  9 10 11 12]\n"
     ]
    }
   ],
   "source": [
    "#ravel methoduyla tek boyutlu hale getirilir.\n",
    "myarray3= np.array([(1,2,3),(4,5,6),(7,8,9),(10,11,12)])\n",
    "a=myarray3.ravel()\n",
    "print(a)"
   ]
  },
  {
   "cell_type": "code",
   "execution_count": null,
   "id": "d0484a08",
   "metadata": {
    "papermill": {
     "duration": 0.004303,
     "end_time": "2023-03-10T19:35:33.893050",
     "exception": false,
     "start_time": "2023-03-10T19:35:33.888747",
     "status": "completed"
    },
    "tags": []
   },
   "outputs": [],
   "source": []
  }
 ],
 "metadata": {
  "kernelspec": {
   "display_name": "Python 3",
   "language": "python",
   "name": "python3"
  },
  "language_info": {
   "codemirror_mode": {
    "name": "ipython",
    "version": 3
   },
   "file_extension": ".py",
   "mimetype": "text/x-python",
   "name": "python",
   "nbconvert_exporter": "python",
   "pygments_lexer": "ipython3",
   "version": "3.7.12"
  },
  "papermill": {
   "default_parameters": {},
   "duration": 11.015594,
   "end_time": "2023-03-10T19:35:34.519518",
   "environment_variables": {},
   "exception": null,
   "input_path": "__notebook__.ipynb",
   "output_path": "__notebook__.ipynb",
   "parameters": {},
   "start_time": "2023-03-10T19:35:23.503924",
   "version": "2.4.0"
  }
 },
 "nbformat": 4,
 "nbformat_minor": 5
}
